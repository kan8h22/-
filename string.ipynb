{
  "nbformat": 4,
  "nbformat_minor": 0,
  "metadata": {
    "kernelspec": {
      "display_name": "Python 3",
      "language": "python",
      "name": "python3"
    },
    "language_info": {
      "codemirror_mode": {
        "name": "ipython",
        "version": 3
      },
      "file_extension": ".py",
      "mimetype": "text/x-python",
      "name": "python",
      "nbconvert_exporter": "python",
      "pygments_lexer": "ipython3",
      "version": "3.7.1"
    },
    "colab": {
      "name": "string.ipynb",
      "provenance": [],
      "include_colab_link": true
    }
  },
  "cells": [
    {
      "cell_type": "markdown",
      "metadata": {
        "id": "view-in-github",
        "colab_type": "text"
      },
      "source": [
        "<a href=\"https://colab.research.google.com/github/kan8h22/-/blob/main/string.ipynb\" target=\"_parent\"><img src=\"https://colab.research.google.com/assets/colab-badge.svg\" alt=\"Open In Colab\"/></a>"
      ]
    },
    {
      "cell_type": "code",
      "metadata": {
        "id": "zwpWU02YmAur",
        "outputId": "f181d85d-17a2-4571-e914-3d332031f533"
      },
      "source": [
        "s = 'abcdef'\n",
        "print(s[0], s[5], s[-1], s[-6])\n",
        "print(s[1:3], s[1:], s[:3], s[:])"
      ],
      "execution_count": null,
      "outputs": [
        {
          "name": "stdout",
          "output_type": "stream",
          "text": [
            "<class 'str'>\n",
            "a f f a\n",
            "bc bcdef abc abcdef\n"
          ]
        }
      ]
    },
    {
      "cell_type": "markdown",
      "source": [
        "-1번째는 제일 마지막 순서의 항을 이야기함. -6은 뒤에서 6번째라는 뜻.\n",
        "[1:]는 1번째부터 끝까지라는 뜻. [:3]이면 처음부터 3번째 직전까지라는 뜻. [:]는 전부 다 가져오라는 말.\n",
        "이런 과정을 indexing이라 함. 즉 string의 세부를 accessing한다는 것."
      ],
      "metadata": {
        "id": "oVM_eTNnBv8o"
      }
    },
    {
      "cell_type": "code",
      "source": [
        "s = 'abcdef'\n",
        "s[0]"
      ],
      "metadata": {
        "id": "N13u4VjfB0sj",
        "outputId": "23cc8db3-ca96-438e-9695-6d293cb612e2",
        "colab": {
          "base_uri": "https://localhost:8080/",
          "height": 35
        }
      },
      "execution_count": 2,
      "outputs": [
        {
          "output_type": "execute_result",
          "data": {
            "text/plain": [
              "'a'"
            ],
            "application/vnd.google.colaboratory.intrinsic+json": {
              "type": "string"
            }
          },
          "metadata": {},
          "execution_count": 2
        }
      ]
    },
    {
      "cell_type": "markdown",
      "source": [
        "'abcdef'에도 list처럼 순서 적용됨."
      ],
      "metadata": {
        "id": "hHnQ5BjhCC1x"
      }
    },
    {
      "cell_type": "code",
      "source": [
        "s= 'abcdef'\n",
        "s[0:2]"
      ],
      "metadata": {
        "id": "8T4PbAkJCMOz",
        "outputId": "a98adfd9-23de-4441-ad22-8738b06d0749",
        "colab": {
          "base_uri": "https://localhost:8080/",
          "height": 35
        }
      },
      "execution_count": 3,
      "outputs": [
        {
          "output_type": "execute_result",
          "data": {
            "text/plain": [
              "'ab'"
            ],
            "application/vnd.google.colaboratory.intrinsic+json": {
              "type": "string"
            }
          },
          "metadata": {},
          "execution_count": 3
        }
      ]
    },
    {
      "cell_type": "markdown",
      "source": [
        "[0:2]는 0번째부터 2번째 직전까지 가져오라는 뜻.\n",
        "s[2:6]입력 시 출력값은 'cdef'"
      ],
      "metadata": {
        "id": "3vEPGpjjCSYm"
      }
    },
    {
      "cell_type": "code",
      "metadata": {
        "id": "mpkdZBeWmAux",
        "outputId": "a5f03d66-f3c7-4ac5-bb23-d4ee9780172d"
      },
      "source": [
        "n = [100, 200, 300]\n",
        "print(n[0], n[2], n[-1], n[-3])\n",
        "print(n[1:2], n[1:], n[:2], n[:])"
      ],
      "execution_count": null,
      "outputs": [
        {
          "name": "stdout",
          "output_type": "stream",
          "text": [
            "100 300 300 100\n",
            "[200] [200, 300] [100, 200] [100, 200, 300]\n"
          ]
        }
      ]
    },
    {
      "cell_type": "code",
      "metadata": {
        "id": "ulnefmnFmAuy",
        "outputId": "013b6af1-433f-4d95-e343-71631a426f84"
      },
      "source": [
        "len(s)"
      ],
      "execution_count": null,
      "outputs": [
        {
          "data": {
            "text/plain": [
              "6"
            ]
          },
          "execution_count": 4,
          "metadata": {},
          "output_type": "execute_result"
        }
      ]
    },
    {
      "cell_type": "markdown",
      "source": [
        "len은 길이를 재 주는 함수이당. s가 'abcdef' 여섯 개 항목으로 이루어져 있으니 출력값이 6이 나옴. len은 string과 list에서 모두 사용됨."
      ],
      "metadata": {
        "id": "wJzmlcW2DjXl"
      }
    },
    {
      "cell_type": "code",
      "metadata": {
        "id": "a45rgiNMmAuy",
        "outputId": "9b1a4417-a513-4f77-8ae9-64352e6da015"
      },
      "source": [
        "s[1]+s[3]+s[4:]*10"
      ],
      "execution_count": null,
      "outputs": [
        {
          "data": {
            "text/plain": [
              "'bdefefefefefefefefefef'"
            ]
          },
          "execution_count": 5,
          "metadata": {},
          "output_type": "execute_result"
        }
      ]
    },
    {
      "cell_type": "code",
      "metadata": {
        "id": "IevwoMpmmAuz",
        "outputId": "69636955-73a9-49f7-ea43-efdb38a982c1"
      },
      "source": [
        "s.upper()"
      ],
      "execution_count": null,
      "outputs": [
        {
          "data": {
            "text/plain": [
              "'ABCDEF'"
            ]
          },
          "execution_count": 7,
          "metadata": {},
          "output_type": "execute_result"
        }
      ]
    },
    {
      "cell_type": "markdown",
      "source": [
        "s.upper() string의 약자, ()가 빈칸이여도 됨.\n",
        "upper은 대문자 처리하라는 함수"
      ],
      "metadata": {
        "id": "6sFerVUcEGCC"
      }
    },
    {
      "cell_type": "code",
      "metadata": {
        "id": "LRU0Yt1amAuz",
        "outputId": "609ea1d2-8e1a-44a4-aad5-b78a57f52e36",
        "colab": {
          "base_uri": "https://localhost:8080/",
          "height": 35
        }
      },
      "source": [
        "s = ' this is a house built this year.\\n'\n",
        "s"
      ],
      "execution_count": 5,
      "outputs": [
        {
          "output_type": "execute_result",
          "data": {
            "text/plain": [
              "' this is a house built this year.\\n'"
            ],
            "application/vnd.google.colaboratory.intrinsic+json": {
              "type": "string"
            }
          },
          "metadata": {},
          "execution_count": 5
        }
      ]
    },
    {
      "cell_type": "code",
      "metadata": {
        "id": "nMHteyDfmAu0",
        "outputId": "2f55caa2-dd53-4fac-e876-05ca87c5d63d"
      },
      "source": [
        "result = s.find('house') \t    # index of first instance of string t inside s (-1 if not found)\n",
        "result"
      ],
      "execution_count": null,
      "outputs": [
        {
          "data": {
            "text/plain": [
              "11"
            ]
          },
          "execution_count": 11,
          "metadata": {},
          "output_type": "execute_result"
        }
      ]
    },
    {
      "cell_type": "code",
      "source": [
        " s.find('house')"
      ],
      "metadata": {
        "id": "2LxXGmPNE8bf",
        "outputId": "88a30220-7fcb-4230-b7c7-5fb3917d79e0",
        "colab": {
          "base_uri": "https://localhost:8080/"
        }
      },
      "execution_count": 6,
      "outputs": [
        {
          "output_type": "execute_result",
          "data": {
            "text/plain": [
              "11"
            ]
          },
          "metadata": {},
          "execution_count": 6
        }
      ]
    },
    {
      "cell_type": "code",
      "metadata": {
        "id": "gv82JUX7mAu0",
        "outputId": "1558c324-c8a7-4973-cf0c-0d1270e8efd5",
        "colab": {
          "base_uri": "https://localhost:8080/"
        }
      },
      "source": [
        "result = s.find('this')\t      # index of first instance of string t inside s (-1 if not found)\n",
        "result"
      ],
      "execution_count": 7,
      "outputs": [
        {
          "output_type": "execute_result",
          "data": {
            "text/plain": [
              "1"
            ]
          },
          "metadata": {},
          "execution_count": 7
        }
      ]
    },
    {
      "cell_type": "code",
      "metadata": {
        "id": "ua3TjwLcmAu2",
        "outputId": "ac192f91-46ce-4ff0-a040-f0d63541124e"
      },
      "source": [
        "s = s.strip()      \t          # a copy of s without leading or trailing whitespace\n",
        "s"
      ],
      "execution_count": null,
      "outputs": [
        {
          "data": {
            "text/plain": [
              "'this is a house built this year.'"
            ]
          },
          "execution_count": 14,
          "metadata": {},
          "output_type": "execute_result"
        }
      ]
    },
    {
      "cell_type": "markdown",
      "source": [
        "strip 공백이나 특수문자를 제거해줌"
      ],
      "metadata": {
        "id": "5vy00tJGFMmO"
      }
    },
    {
      "cell_type": "code",
      "metadata": {
        "id": "l37g5DqQmAu2",
        "outputId": "379a64e2-d4e1-4736-9509-89b34489ffe8",
        "colab": {
          "base_uri": "https://localhost:8080/"
        }
      },
      "source": [
        "tokens = s.split(' ')\t        # split s into a list wherever a t is found (whitespace by default)\n",
        "tokens"
      ],
      "execution_count": 8,
      "outputs": [
        {
          "output_type": "execute_result",
          "data": {
            "text/plain": [
              "['', 'this', 'is', 'a', 'house', 'built', 'this', 'year.\\n']"
            ]
          },
          "metadata": {},
          "execution_count": 8
        }
      ]
    },
    {
      "cell_type": "markdown",
      "source": [
        "split 입력값을 나누고 list로 나타내라\n",
        "('') -> 문자를 입력값으로 취하라"
      ],
      "metadata": {
        "id": "9JmB1aGlFP9m"
      }
    },
    {
      "cell_type": "code",
      "source": [
        "tokens[4]"
      ],
      "metadata": {
        "id": "qUzbuiV8F5gZ",
        "outputId": "8821f5f6-9516-4185-d848-b0153111b952",
        "colab": {
          "base_uri": "https://localhost:8080/",
          "height": 35
        }
      },
      "execution_count": 10,
      "outputs": [
        {
          "output_type": "execute_result",
          "data": {
            "text/plain": [
              "'house'"
            ],
            "application/vnd.google.colaboratory.intrinsic+json": {
              "type": "string"
            }
          },
          "metadata": {},
          "execution_count": 10
        }
      ]
    },
    {
      "cell_type": "code",
      "metadata": {
        "id": "64sewKE8mAu2",
        "outputId": "e2e8dc1f-6b83-41ef-b746-7712099f2776"
      },
      "source": [
        "s = ' '.join(tokens)\t        # combine the words of the text into a string using s as the glue\n",
        "s"
      ],
      "execution_count": null,
      "outputs": [
        {
          "data": {
            "text/plain": [
              "'this is a house built this year.'"
            ]
          },
          "execution_count": 16,
          "metadata": {},
          "output_type": "execute_result"
        }
      ]
    },
    {
      "cell_type": "code",
      "metadata": {
        "id": "jfiqbBiImAu3",
        "outputId": "13300aff-f13a-4f48-c6ec-cbc5d01dd55b"
      },
      "source": [
        "s = s.replace('this', 'that') # replace instances of t with u inside s\n",
        "s"
      ],
      "execution_count": null,
      "outputs": [
        {
          "data": {
            "text/plain": [
              "'that is a house built that year.'"
            ]
          },
          "execution_count": 17,
          "metadata": {},
          "output_type": "execute_result"
        }
      ]
    }
  ]
}